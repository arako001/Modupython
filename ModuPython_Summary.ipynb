{
 "cells": [
  {
   "cell_type": "markdown",
   "metadata": {},
   "source": [
    "# 모두의 데이터 분석 with 파이썬"
   ]
  },
  {
   "cell_type": "markdown",
   "metadata": {},
   "source": [
    "## Unit02. CSV파일에서 데이터 읽어오기"
   ]
  },
  {
   "cell_type": "code",
   "execution_count": 8,
   "metadata": {},
   "outputs": [],
   "source": [
    "import csv\n",
    "f=open('seoul.csv', encoding='cp949') # MAC: encoding='utf8'\n",
    "data=csv.reader(f)\n",
    "#next(data)\n",
    "#print(data)"
   ]
  },
  {
   "cell_type": "markdown",
   "metadata": {},
   "source": [
    "## Unit03. 기온이 가장 높았던 날, 낮았던 날 출력하기 (+ 결측치 대체)"
   ]
  },
  {
   "cell_type": "markdown",
   "metadata": {},
   "source": [
    "## Unit04. matplotlib의 등장. 시각화 시작\n",
    "### 1. plt.plot()\n",
    "  - plt.title(): 한글 팁) plt.rc('font',family='Malgun Gothic')\n",
    "  - plt.legend() : 범례를 넣으려면, plt.plot()에서 label을 지정해준다.\n",
    "      e.g) plt.plot([1,2,3],[4,5,6], label='a')\n",
    "  - plt.legend(loc=5) : loc 옵션으로 범례의 위치를 조정할 수 있다.\n",
    "  - 색상 넣기: plt.plot([1,2,3],[4,5,6], color='blue')\n",
    "  - 선 모양 변경: plt.plot([1,2,3],[4,5,6], linestyle='--')\n",
    "  - 마커 모양 변경: plt.plot([1,2,3],[4,5,6], 'r.') "
   ]
  },
  {
   "cell_type": "code",
   "execution_count": 12,
   "metadata": {},
   "outputs": [
    {
     "data": {
      "image/png": "[encoded data removed]",
      "text/plain": [
       "<Figure size 432x288 with 1 Axes>"
      ]
     },
     "metadata": {
      "needs_background": "light"
     },
     "output_type": "display_data"
    }
   ],
   "source": [
    "import matplotlib.pyplot as plt\n",
    "plt.plot([1,2,3],[4,5,6],'r.', label='circle')\n",
    "plt.show()"
   ]
  },
  {
   "cell_type": "markdown",
   "metadata": {},
   "source": [
    "## Unit05. line chart 연습 (매년 생일의 최고 기온)\n",
    "\n",
    "+ 팁) 세로축의 마이너스(-)가 깨진 경우: plt.rcParams['axes.unicoed_minus']='False"
   ]
  },
  {
   "cell_type": "markdown",
   "metadata": {},
   "source": [
    "## Unit06. 시각화 Part2\n",
    "### 2. 히스토그램: 1월과 8월의 최고 기온을 표현하기\n",
    "    - plt.hist()\n",
    "### 3. boxplot: 매년 월별 최고 기온을 boxplot으로 표현\n",
    "    - plt.boxplot()\n",
    "    - box plot 내 정확한 값이 알고 싶을 경우 numpy를 활용할 것!\n",
    "    - import numpy as np\n",
    "      result= np.array(result)\n",
    "      print(\"1/4: \"+str(np.percentile(result,25))\n",
    "      print(\"2/4: \"+str(np.percentile(result,50))\n",
    "      print(\"3/4: \"+str(np.percentile(result,75))\n",
    "    - plt.style.use('ggplot')\n",
    "### Quiz. 1년 중 일교차가 가장 큰 달은 몇 월일까?"
   ]
  },
  {
   "cell_type": "code",
   "execution_count": 16,
   "metadata": {},
   "outputs": [
    {
     "data": {
      "image/png": "[encoded data removed]",
      "text/plain": [
       "<Figure size 432x288 with 1 Axes>"
      ]
     },
     "metadata": {
      "needs_background": "light"
     },
     "output_type": "display_data"
    }
   ],
   "source": [
    "plt.hist([2,4,6,1,6])\n",
    "plt.show()"
   ]
  },
  {
   "cell_type": "code",
   "execution_count": 18,
   "metadata": {},
   "outputs": [
    {
     "data": {
      "image/png": "[encoded data removed]",
      "text/plain": [
       "<Figure size 432x288 with 1 Axes>"
      ]
     },
     "metadata": {
      "needs_background": "light"
     },
     "output_type": "display_data"
    }
   ],
   "source": [
    "plt.hist([2,4,6,1,6],bins=6)\n",
    "plt.show()"
   ]
  },
  {
   "cell_type": "markdown",
   "metadata": {},
   "source": [
    "## Unit07. (인구 데이터 시작) 우리동네 연령별 인구 데이터 시각화\n",
    "\n",
    "\n",
    "    - plt.style.use('ggplot'): print(plt.style.available) 에서 스타일 이름 확인 가능"
   ]
  },
  {
   "cell_type": "markdown",
   "metadata": {},
   "source": [
    "## Unit08. 시각화 Part3\n",
    "\n",
    "### 4. bar\n",
    "    - plt.bar([1,2,3],[0,4,5])\n",
    "\n",
    "### 5. barh (항아리) : 성별 연령별 분포\n",
    "    - plt.barh([1,2,3],[0,4,5])\n",
    "\n",
    "+ x.reverse() : x라는 리스트의 값을 역순으로 재배열"
   ]
  },
  {
   "cell_type": "code",
   "execution_count": 19,
   "metadata": {},
   "outputs": [
    {
     "data": {
      "text/plain": [
       "<BarContainer object of 3 artists>"
      ]
     },
     "execution_count": 19,
     "metadata": {},
     "output_type": "execute_result"
    },
    {
     "data": {
      "image/png": "[encoded data removed]",
      "text/plain": [
       "<Figure size 432x288 with 1 Axes>"
      ]
     },
     "metadata": {
      "needs_background": "light"
     },
     "output_type": "display_data"
    }
   ],
   "source": [
    "plt.bar([1,2,3],[0,4,5])"
   ]
  },
  {
   "cell_type": "code",
   "execution_count": 20,
   "metadata": {},
   "outputs": [
    {
     "data": {
      "text/plain": [
       "<BarContainer object of 3 artists>"
      ]
     },
     "execution_count": 20,
     "metadata": {},
     "output_type": "execute_result"
    },
    {
     "data": {
      "image/png": "[encoded data removed]",
      "text/plain": [
       "<Figure size 432x288 with 1 Axes>"
      ]
     },
     "metadata": {
      "needs_background": "light"
     },
     "output_type": "display_data"
    }
   ],
   "source": [
    "plt.barh([1,2,3],[0,4,5])"
   ]
  },
  {
   "cell_type": "markdown",
   "metadata": {},
   "source": [
    "## Unit09. 시각화 Part4\n",
    "\n",
    "### 6. pie: 원하는 지역의 성별 인구를 시각화(p138)\n",
    "    - plt.pie\n",
    "    - plt.axis('equal') : 타원이 아닌, 원형으로 표시\n",
    "    - plt.pie([10,12,13], labels=['A','B','C']\n",
    "    - 값 표시 autopct='%.1f%%'\n",
    "    - color 지정도 가능\n",
    "    - 돌출효과 가능: explode\n",
    "    - startangle: 시작 각도를 지정\n",
    "\n",
    "+break: 해당 데이터를 만나면, 반복문의 실행을 멈춤"
   ]
  },
  {
   "cell_type": "code",
   "execution_count": 29,
   "metadata": {},
   "outputs": [
    {
     "data": {
      "image/png": "[encoded data removed]",
      "text/plain": [
       "<Figure size 432x288 with 1 Axes>"
      ]
     },
     "metadata": {},
     "output_type": "display_data"
    }
   ],
   "source": [
    "plt.pie([2441,2345,321,5340],labels=['A','B','C','D'], autopct='%.1f%%', colors=['darkmagenta','deeppink','hotpink','pink'], explode=(0,1,0,0))\n",
    "plt.legend()\n",
    "plt.show()"
   ]
  },
  {
   "cell_type": "markdown",
   "metadata": {},
   "source": [
    "## Unit10. 시각화 Part5\n",
    "\n",
    "### 7. scatter plot: plt.scatter"
   ]
  },
  {
   "cell_type": "code",
   "execution_count": null,
   "metadata": {},
   "outputs": [],
   "source": []
  }
 ],
 "metadata": {
  "kernelspec": {
   "display_name": "Python 3",
   "language": "python",
   "name": "python3"
  },
  "language_info": {
   "codemirror_mode": {
    "name": "ipython",
    "version": 3
   },
   "file_extension": ".py",
   "mimetype": "text/x-python",
   "name": "python",
   "nbconvert_exporter": "python",
   "pygments_lexer": "ipython3",
   "version": "3.7.6"
  }
 },
 "nbformat": 4,
 "nbformat_minor": 4
}
